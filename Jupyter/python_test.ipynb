{
 "cells": [
  {
   "cell_type": "code",
   "execution_count": 1,
   "id": "8e327994",
   "metadata": {},
   "outputs": [
    {
     "name": "stdout",
     "output_type": "stream",
     "text": [
      "Hello World\n"
     ]
    }
   ],
   "source": [
    "print(\"Hello World\")"
   ]
  },
  {
   "cell_type": "code",
   "execution_count": 14,
   "id": "e74588d3",
   "metadata": {},
   "outputs": [
    {
     "name": "stdout",
     "output_type": "stream",
     "text": [
      "{'a': 4, 'b': 2, 'c': 0}\n"
     ]
    }
   ],
   "source": [
    "# Count Occurrences of Elements in a List\n",
    "my_list = ['a', 'b', 'a', 'c', 'b', 'a' , \"a\"]\n",
    "# Output: {'a': 3, 'b': 2, 'c': 1}\n",
    "\n",
    "d = {}\n",
    "count = 0\n",
    "for i in my_list:\n",
    "    if i not in d:\n",
    "    \td[i] = 0\n",
    "    else:\n",
    "        count+=1\n",
    "        d[i] = count\n",
    "    \t\n",
    "print(d)\n"
   ]
  },
  {
   "cell_type": "code",
   "execution_count": null,
   "id": "43325d12-f99b-4185-a7df-280cadb0877d",
   "metadata": {},
   "outputs": [],
   "source": []
  }
 ],
 "metadata": {
  "kernelspec": {
   "display_name": "Python 3 (ipykernel)",
   "language": "python",
   "name": "python3"
  },
  "language_info": {
   "codemirror_mode": {
    "name": "ipython",
    "version": 3
   },
   "file_extension": ".py",
   "mimetype": "text/x-python",
   "name": "python",
   "nbconvert_exporter": "python",
   "pygments_lexer": "ipython3",
   "version": "3.12.7"
  }
 },
 "nbformat": 4,
 "nbformat_minor": 5
}
